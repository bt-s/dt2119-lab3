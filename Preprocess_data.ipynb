{
 "metadata": {
  "kernelspec": {
   "display_name": "Python 3",
   "language": "python",
   "name": "python3"
  },
  "language_info": {
   "codemirror_mode": {
    "name": "ipython",
    "version": 3
   },
   "file_extension": ".py",
   "mimetype": "text/x-python",
   "name": "python",
   "nbconvert_exporter": "python",
   "pygments_lexer": "ipython3",
   "version": "3.6.7"
  },
  "name": "",
  "signature": "sha256:4a0114c588d67c00e3a3da87fda0a6af86cfd52fb6eacacfd403f9f25afe41c9"
 },
 "nbformat": 3,
 "nbformat_minor": 0,
 "worksheets": [
  {
   "cells": [
    {
     "cell_type": "code",
     "collapsed": false,
     "input": [
      "from lab3_tools import path2info, frames2trans\n",
      "import numpy as np\n",
      "from lab3_dnn import stateList, phoneHMMs_all, all_model\n",
      "\n",
      "traindata = np.load(\"data/traindata.npz\", allow_pickle=True)[\"traindata\"]\n",
      "testdata = np.load(\"data/testdata.npz\", allow_pickle=True)[\"testdata\"]"
     ],
     "language": "python",
     "metadata": {},
     "outputs": [
      {
       "output_type": "stream",
       "stream": "stdout",
       "text": [
        "61\n",
        "dict_keys(['viterbiPath', 'utteranceHMM', 'stateTrans', 'gender', 'digits', 'viterbiLoglik', 'repetition', 'filename', 'samples', 'phoneTrans', 'obsloglik', 'viterbiStateTrans', 'lmfcc', 'wordTrans', 'speaker'])\n",
        "##################################################\n",
        "##################################################\n",
        "##################################################\n",
        "Error on Samples :  0.0\n",
        "[[0. 0. 0. ... 0. 0. 0.]\n",
        " [0. 0. 0. ... 0. 0. 0.]\n",
        " [0. 0. 0. ... 0. 0. 0.]\n",
        " ...\n",
        " [0. 0. 0. ... 0. 0. 0.]\n",
        " [0. 0. 0. ... 0. 0. 0.]\n",
        " [0. 0. 0. ... 0. 0. 0.]]"
       ]
      },
      {
       "output_type": "stream",
       "stream": "stdout",
       "text": [
        " \n",
        "\n",
        "\n",
        "\n",
        "(size  True )\n",
        "[[ -1.812 -21.238   0.827 ... -12.61    4.597  -1.346]\n",
        " [ -0.539 -20.924  -2.728 ... -10.562 -22.221 -14.309]\n",
        " [ -0.942 -22.855  -5.999 ... -10.664  -1.57   -7.47 ]\n",
        " ...\n",
        " [ 12.239   4.598  -1.234 ... -28.114  -9.696  17.778]\n",
        " [ 12.896   1.712  -1.788 ...  -4.272  -8.788  26.121]\n",
        " [ 11.381   0.469  -4.298 ...  -6.446   2.594  25.223]]\n",
        "\n",
        "\n",
        "\n",
        "\n",
        "\n",
        "[[ -22.914 -189.958    7.401 ... -112.788   41.12   -12.043]\n",
        " [  -6.817 -187.148  -24.397 ...  -94.472 -198.748 -127.984]\n",
        " [ -11.921 -204.418  -53.654 ...  -95.385  -14.047  -66.817]\n",
        " ...\n",
        " [ 154.813   41.125  -11.036 ... -251.462  -86.724  159.014]\n",
        " [ 163.12    15.309  -15.994 ...  -38.21   -78.602  233.633]\n",
        " [ 143.96     4.198  -38.446 ...  -57.656   23.205  225.606]]\n",
        "LMFCC error is :  782.4870801875529\n",
        "New LMFCC error is :  0.0\n",
        "PhoneTrans is :  True\n",
        "Error on  covars  is :  0.0   ( size: True )\n",
        "Error on  transmat  is :  0.0   ( size: True )\n",
        "Error on  startprob  is :  0.0   ( size: True )\n",
        "Error on  means  is :  0.0   ( size: True )\n",
        "StateTrans is :  True\n",
        "data_log_lik error is :  0.0   ( size: True )\n",
        "Viterbi log lik error is : "
       ]
      },
      {
       "output_type": "stream",
       "stream": "stdout",
       "text": [
        " 14.03424313646974\n",
        "viterbiStateTrans is : "
       ]
      },
      {
       "output_type": "stream",
       "stream": "stdout",
       "text": [
        " True   ( True )\n"
       ]
      }
     ],
     "prompt_number": 1
    },
    {
     "cell_type": "code",
     "collapsed": false,
     "input": [
      "print(traindata[459][\"filename\"])\n",
      "print(traindata[460][\"filename\"])\n",
      "print(traindata[461][\"filename\"])\n",
      "print(traindata[-462][\"filename\"])\n",
      "print(traindata[-463][\"filename\"])\n",
      "print(traindata[-464][\"filename\"])\n",
      "print(traindata[-465][\"filename\"])\n",
      "\n",
      "val   = np.concatenate((traindata[:461], traindata[-462:]))\n",
      "train = traindata[461:-462]\n",
      "\n",
      "np.save(\"data/val.npy\", val)\n",
      "np.save(\"data/train.npy\", train)"
     ],
     "language": "python",
     "metadata": {},
     "outputs": [
      {
       "output_type": "stream",
       "stream": "stdout",
       "text": [
        "tidigits/disc_4.1.1/tidigits/train/woman/ee/5562886a.wav\n",
        "tidigits/disc_4.1.1/tidigits/train/woman/ee/3a.wav\n",
        "tidigits/disc_4.1.1/tidigits/train/woman/jj/832o743a.wav\n",
        "tidigits/disc_4.1.1/tidigits/train/man/fj/4b.wav\n",
        "tidigits/disc_4.1.1/tidigits/train/man/mp/3a.wav\n",
        "tidigits/disc_4.1.1/tidigits/train/man/mp/4o75o65a.wav\n",
        "tidigits/disc_4.1.1/tidigits/train/man/mp/18o49a.wav\n"
       ]
      }
     ],
     "prompt_number": 33
    },
    {
     "cell_type": "code",
     "collapsed": false,
     "input": [
      "print(traindata[100][\"targets\"])\n",
      "print(traindata[100][\"filename\"])\n",
      "\n",
      "trans = [stateList[t] for t in traindata[100][\"targets\"]]\n"
     ],
     "language": "python",
     "metadata": {},
     "outputs": [
      {
       "output_type": "stream",
       "stream": "stdout",
       "text": [
        "[39, 40, 40, 40, 40, 40, 40, 40, 40, 40, 40, 40, 40, 40, 40, 40, 40, 40, 40, 40, 40, 40, 40, 40, 40, 40, 40, 40, 40, 40, 40, 40, 40, 41, 15, 16, 17, 6, 7, 8, 52, 53, 54, 46, 47, 48, 33, 34, 35, 21, 22, 23, 42, 42, 42, 42, 42, 42, 42, 42, 42, 42, 42, 42, 42, 42, 43, 44, 45, 49, 50, 51, 39, 40, 40, 40, 40, 40, 40, 40, 40, 40, 40, 40, 40, 40, 40, 40, 40, 40, 40, 40, 40, 40, 40, 40, 40, 40, 40, 40, 40, 40, 40, 40, 40, 40, 40, 40, 40, 40, 40, 40, 40, 40, 40, 40, 40, 40, 40, 40, 40, 40, 40, 40, 40, 40, 40, 40, 40, 40, 40, 40, 40, 40, 40, 40, 40, 40, 40]\n",
        "tidigits/disc_4.1.1/tidigits/train/woman/nh/532a.wav\n"
       ]
      }
     ],
     "prompt_number": 49
    },
    {
     "cell_type": "code",
     "collapsed": false,
     "input": [
      "print(trans)\n",
      "frames2trans(trans, outfilename=\"532a.lab\")"
     ],
     "language": "python",
     "metadata": {},
     "outputs": [
      {
       "output_type": "stream",
       "stream": "stdout",
       "text": [
        "['sil_0', 'sil_1', 'sil_1', 'sil_1', 'sil_1', 'sil_1', 'sil_1', 'sil_1', 'sil_1', 'sil_1', 'sil_1', 'sil_1', 'sil_1', 'sil_1', 'sil_1', 'sil_1', 'sil_1', 'sil_1', 'sil_1', 'sil_1', 'sil_1', 'sil_1', 'sil_1', 'sil_1', 'sil_1', 'sil_1', 'sil_1', 'sil_1', 'sil_1', 'sil_1', 'sil_1', 'sil_1', 'sil_1', 'sil_2', 'f_0', 'f_1', 'f_2', 'ay_0', 'ay_1', 'ay_2', 'v_0', 'v_1', 'v_2', 'th_0', 'th_1', 'th_2', 'r_0', 'r_1', 'r_2', 'iy_0', 'iy_1', 'iy_2', 'sp_0', 'sp_0', 'sp_0', 'sp_0', 'sp_0', 'sp_0', 'sp_0', 'sp_0', 'sp_0', 'sp_0', 'sp_0', 'sp_0', 'sp_0', 'sp_0', 't_0', 't_1', 't_2', 'uw_0', 'uw_1', 'uw_2', 'sil_0', 'sil_1', 'sil_1', 'sil_1', 'sil_1', 'sil_1', 'sil_1', 'sil_1', 'sil_1', 'sil_1', 'sil_1', 'sil_1', 'sil_1', 'sil_1', 'sil_1', 'sil_1', 'sil_1', 'sil_1', 'sil_1', 'sil_1', 'sil_1', 'sil_1', 'sil_1', 'sil_1', 'sil_1', 'sil_1', 'sil_1', 'sil_1', 'sil_1', 'sil_1', 'sil_1', 'sil_1', 'sil_1', 'sil_1', 'sil_1', 'sil_1', 'sil_1', 'sil_1', 'sil_1', 'sil_1', 'sil_1', 'sil_1', 'sil_1', 'sil_1', 'sil_1', 'sil_1', 'sil_1', 'sil_1', 'sil_1', 'sil_1', 'sil_1', 'sil_1', 'sil_1', 'sil_1', 'sil_1', 'sil_1', 'sil_1', 'sil_1', 'sil_1', 'sil_1', 'sil_1', 'sil_1', 'sil_1', 'sil_1', 'sil_1', 'sil_1', 'sil_1']\n"
       ]
      },
      {
       "metadata": {},
       "output_type": "pyout",
       "prompt_number": 53,
       "text": [
        "'0 0.01 sil_0\\n0.01 0.3300000000000001 sil_1\\n0.3300000000000001 0.34000000000000014 sil_2\\n0.34000000000000014 0.35000000000000014 f_0\\n0.35000000000000014 0.36000000000000015 f_1\\n0.36000000000000015 0.37000000000000016 f_2\\n0.37000000000000016 0.38000000000000017 ay_0\\n0.38000000000000017 0.3900000000000002 ay_1\\n0.3900000000000002 0.4000000000000002 ay_2\\n0.4000000000000002 0.4100000000000002 v_0\\n0.4100000000000002 0.4200000000000002 v_1\\n0.4200000000000002 0.4300000000000002 v_2\\n0.4300000000000002 0.4400000000000002 th_0\\n0.4400000000000002 0.45000000000000023 th_1\\n0.45000000000000023 0.46000000000000024 th_2\\n0.46000000000000024 0.47000000000000025 r_0\\n0.47000000000000025 0.48000000000000026 r_1\\n0.48000000000000026 0.49000000000000027 r_2\\n0.49000000000000027 0.5000000000000002 iy_0\\n0.5000000000000002 0.5100000000000002 iy_1\\n0.5100000000000002 0.5200000000000002 iy_2\\n0.5200000000000002 0.6600000000000004 sp_0\\n0.6600000000000004 0.6700000000000004 t_0\\n0.6700000000000004 0.6800000000000004 t_1\\n0.6800000000000004 0.6900000000000004 t_2\\n0.6900000000000004 0.7000000000000004 uw_0\\n0.7000000000000004 0.7100000000000004 uw_1\\n0.7100000000000004 0.7200000000000004 uw_2\\n0.7200000000000004 0.7300000000000004 sil_0\\n0.7300000000000004 1.390000000000001 sil_1\\n'"
       ]
      }
     ],
     "prompt_number": 53
    },
    {
     "cell_type": "code",
     "collapsed": false,
     "input": [],
     "language": "python",
     "metadata": {},
     "outputs": [
      {
       "output_type": "stream",
       "stream": "stdout",
       "text": [
        "532a.lab                 lab2_proto.py          prondict.py\r\n",
        "extract_feature.py       lab2_tools.py          \u001b[0m\u001b[34;40m__pycache__\u001b[0m/\r\n",
        "extract_feature_test.py  lab3_dnn.py            testdata.npz\r\n",
        "feature.npy              lab3_example.npz       \u001b[35;40mtidigits\u001b[0m@\r\n",
        "file.mat                 lab3.pdf               toolslab1.py\r\n",
        "lab1_proto.py            lab3_proto.py          traindata.npz\r\n",
        "lab2_data.npz            lab3_tools.py          train.npy\r\n",
        "lab2_example.npz         login.sh               val.npy\r\n",
        "lab2_models_all.npz      pr_dnn.py              z43a.lab\r\n",
        "lab2_models_onespkr.npz  Preprocess_data.ipynb\r\n"
       ]
      }
     ],
     "prompt_number": 54
    },
    {
     "cell_type": "code",
     "collapsed": false,
     "input": [
      "ratio = np.load(\"ratio.npy\")\n",
      "\n",
      "from lab3_tools import *\n",
      "from lab1_proto import *\n",
      "from lab3_proto import *\n",
      "from prondict import prondict\n",
      "\n",
      "filename = \"tidigits/disc_4.1.1/tidigits/train/woman/nh/532a.wav\"\n",
      "\n",
      "samples, samplingrate = loadAudio(filename)\n",
      "lmfcc, mspec = mfcc_both(samples)\n",
      "wordTrans = list(path2info(filename)[2])\n",
      "phoneTrans = words2phones(wordTrans, prondict)\n",
      "targets1 = forcedAlignment(lmfcc, phoneHMMs_all, phoneTrans)"
     ],
     "language": "python",
     "metadata": {},
     "outputs": [],
     "prompt_number": 28
    },
    {
     "cell_type": "code",
     "collapsed": false,
     "input": [
      "print(targets1)"
     ],
     "language": "python",
     "metadata": {},
     "outputs": [
      {
       "output_type": "stream",
       "stream": "stdout",
       "text": [
        "['sil_0', 'sil_1', 'sil_1', 'sil_1', 'sil_1', 'sil_1', 'sil_1', 'sil_1', 'sil_1', 'sil_1', 'sil_1', 'sil_1', 'sil_1', 'sil_1', 'sil_1', 'sil_1', 'sil_1', 'sil_1', 'sil_1', 'sil_1', 'sil_1', 'sil_1', 'sil_1', 'sil_1', 'sil_1', 'sil_1', 'sil_1', 'sil_1', 'sil_1', 'sil_1', 'sil_1', 'sil_1', 'sil_1', 'sil_2', 'f_0', 'f_1', 'f_2', 'ay_0', 'ay_1', 'ay_2', 'v_0', 'v_1', 'v_2', 'th_0', 'th_1', 'th_2', 'r_0', 'r_1', 'r_2', 'iy_0', 'iy_1', 'iy_2', 'sp_0', 'sp_0', 'sp_0', 'sp_0', 'sp_0', 'sp_0', 'sp_0', 'sp_0', 'sp_0', 'sp_0', 'sp_0', 'sp_0', 'sp_0', 'sp_0', 't_0', 't_1', 't_2', 'uw_0', 'uw_1', 'uw_2', 'sil_0', 'sil_1', 'sil_1', 'sil_1', 'sil_1', 'sil_1', 'sil_1', 'sil_1', 'sil_1', 'sil_1', 'sil_1', 'sil_1', 'sil_1', 'sil_1', 'sil_1', 'sil_1', 'sil_1', 'sil_1', 'sil_1', 'sil_1', 'sil_1', 'sil_1', 'sil_1', 'sil_1', 'sil_1', 'sil_1', 'sil_1', 'sil_1', 'sil_1', 'sil_1', 'sil_1', 'sil_1', 'sil_1', 'sil_1', 'sil_1', 'sil_1', 'sil_1', 'sil_1', 'sil_1', 'sil_1', 'sil_1', 'sil_1', 'sil_1', 'sil_1', 'sil_1', 'sil_1', 'sil_1', 'sil_1', 'sil_1', 'sil_1', 'sil_1', 'sil_1', 'sil_1', 'sil_1', 'sil_1', 'sil_1', 'sil_1', 'sil_1', 'sil_1', 'sil_1', 'sil_1', 'sil_1', 'sil_1', 'sil_1', 'sil_1', 'sil_1', 'sil_1']\n"
       ]
      }
     ],
     "prompt_number": 29
    },
    {
     "cell_type": "code",
     "collapsed": false,
     "input": [
      "\n",
      "A = np.dot(np.ones([lmfcc.shape[0], 1]) ,ratio.reshape(13,1).T)\n",
      "print(A.shape == lmfcc.shape)\n",
      "\n",
      "lmfcc = np.multiply(lmfcc,A )\n",
      "wordTrans = list(path2info(filename)[2])\n",
      "phoneTrans = words2phones(wordTrans, prondict)\n",
      "targets = forcedAlignment(lmfcc, phoneHMMs_all, phoneTrans)\n",
      "print(targets)\n",
      "frames2trans(targets, outfilename=\"532a.lab\")"
     ],
     "language": "python",
     "metadata": {},
     "outputs": [
      {
       "output_type": "stream",
       "stream": "stdout",
       "text": [
        "True\n",
        "['sil_0', 'sil_0', 'sil_0', 'sil_0', 'sil_0', 'sil_0', 'sil_0', 'sil_0', 'sil_0', 'sil_0', 'sil_0', 'sil_0', 'sil_0', 'sil_0', 'sil_0', 'sil_0', 'sil_1', 'sil_1', 'sil_1', 'sil_1', 'sil_2', 'f_0', 'f_1', 'f_1', 'f_1', 'f_1', 'f_1', 'f_1', 'f_1', 'f_1', 'f_1', 'f_1', 'f_1', 'f_2', 'ay_0', 'ay_0', 'ay_0', 'ay_0', 'ay_0', 'ay_1', 'ay_1', 'ay_1', 'ay_1', 'ay_1', 'ay_1', 'ay_1', 'ay_1', 'ay_1', 'ay_2', 'v_0', 'v_0', 'v_1', 'v_2', 'v_2', 'v_2', 'v_2', 'v_2', 'sp_0', 'sp_0', 'sp_0', 'th_0', 'th_1', 'th_1', 'th_1', 'th_1', 'th_2', 'r_0', 'r_1', 'r_1', 'r_2', 'iy_0', 'iy_0', 'iy_0', 'iy_0', 'iy_1', 'iy_1', 'iy_1', 'iy_1', 'iy_1', 'iy_2', 'iy_2', 'iy_2', 'iy_2', 'sp_0', 'sp_0', 'sp_0', 't_0', 't_1', 't_1', 't_1', 't_2', 'uw_0', 'uw_0', 'uw_0', 'uw_0', 'uw_0', 'uw_0', 'uw_0', 'uw_0', 'uw_0', 'uw_0', 'uw_0', 'uw_0', 'uw_1', 'uw_2', 'uw_2', 'uw_2', 'uw_2', 'uw_2', 'uw_2', 'uw_2', 'uw_2', 'uw_2', 'uw_2', 'sil_0', 'sil_0', 'sil_0', 'sil_0', 'sil_0', 'sil_0', 'sil_0', 'sil_0', 'sil_0', 'sil_0', 'sil_0', 'sil_0', 'sil_0', 'sil_0', 'sil_0', 'sil_0', 'sil_0', 'sil_1', 'sil_2', 'sil_2', 'sil_2', 'sil_2', 'sil_2', 'sil_2', 'sil_2']\n"
       ]
      },
      {
       "metadata": {},
       "output_type": "pyout",
       "prompt_number": 30,
       "text": [
        "'0 0.16 sil_0\\n0.16 0.20000000000000004 sil_1\\n0.20000000000000004 0.21000000000000005 sil_2\\n0.21000000000000005 0.22000000000000006 f_0\\n0.22000000000000006 0.3300000000000001 f_1\\n0.3300000000000001 0.34000000000000014 f_2\\n0.34000000000000014 0.3900000000000002 ay_0\\n0.3900000000000002 0.48000000000000026 ay_1\\n0.48000000000000026 0.49000000000000027 ay_2\\n0.49000000000000027 0.5100000000000002 v_0\\n0.5100000000000002 0.5200000000000002 v_1\\n0.5200000000000002 0.5700000000000003 v_2\\n0.5700000000000003 0.6000000000000003 sp_0\\n0.6000000000000003 0.6100000000000003 th_0\\n0.6100000000000003 0.6500000000000004 th_1\\n0.6500000000000004 0.6600000000000004 th_2\\n0.6600000000000004 0.6700000000000004 r_0\\n0.6700000000000004 0.6900000000000004 r_1\\n0.6900000000000004 0.7000000000000004 r_2\\n0.7000000000000004 0.7400000000000004 iy_0\\n0.7400000000000004 0.7900000000000005 iy_1\\n0.7900000000000005 0.8300000000000005 iy_2\\n0.8300000000000005 0.8600000000000005 sp_0\\n0.8600000000000005 0.8700000000000006 t_0\\n0.8700000000000006 0.9000000000000006 t_1\\n0.9000000000000006 0.9100000000000006 t_2\\n0.9100000000000006 1.0300000000000007 uw_0\\n1.0300000000000007 1.0400000000000007 uw_1\\n1.0400000000000007 1.1400000000000008 uw_2\\n1.1400000000000008 1.310000000000001 sil_0\\n1.310000000000001 1.320000000000001 sil_1\\n1.320000000000001 1.390000000000001 sil_2\\n'"
       ]
      }
     ],
     "prompt_number": 30
    },
    {
     "cell_type": "code",
     "collapsed": false,
     "input": [
      "for i in range(len(targets1)):\n",
      "    print(targets1[i] == targets2[i])"
     ],
     "language": "python",
     "metadata": {},
     "outputs": [
      {
       "output_type": "stream",
       "stream": "stdout",
       "text": [
        "True\n",
        "True\n",
        "True\n",
        "True\n",
        "True\n",
        "True\n",
        "True\n",
        "True\n",
        "True\n",
        "True\n",
        "True\n",
        "True\n",
        "True\n",
        "True\n",
        "True\n",
        "True\n",
        "True\n",
        "True\n",
        "True\n",
        "True\n",
        "True\n",
        "True\n",
        "True\n",
        "True\n",
        "True\n",
        "True\n",
        "True\n",
        "True\n",
        "True\n",
        "True\n",
        "True\n",
        "True\n",
        "True\n",
        "True\n",
        "True\n",
        "True\n",
        "True\n",
        "True\n",
        "True\n",
        "True\n",
        "True\n",
        "True\n",
        "True\n",
        "True\n",
        "True\n",
        "True\n",
        "True\n",
        "True\n",
        "True\n",
        "True\n",
        "True\n",
        "True\n",
        "False\n",
        "False\n",
        "False\n",
        "False\n",
        "False\n",
        "False\n",
        "False\n",
        "False\n",
        "False\n",
        "False\n",
        "False\n",
        "False\n",
        "False\n",
        "False\n",
        "False\n",
        "False\n",
        "False\n",
        "False\n",
        "False\n",
        "False\n",
        "False\n",
        "True\n",
        "True\n",
        "True\n",
        "True\n",
        "True\n",
        "True\n",
        "True\n",
        "True\n",
        "True\n",
        "True\n",
        "True\n",
        "True\n",
        "True\n",
        "True\n",
        "True\n",
        "True\n",
        "True\n",
        "True\n",
        "True\n",
        "True\n",
        "True\n",
        "True\n",
        "True\n",
        "True\n",
        "True\n",
        "True\n",
        "True\n",
        "True\n",
        "True\n",
        "True\n",
        "True\n",
        "True\n",
        "True\n",
        "True\n",
        "True\n",
        "True\n",
        "True\n",
        "True\n",
        "True\n",
        "True\n",
        "True\n",
        "True\n",
        "True\n",
        "True\n",
        "True\n",
        "True\n",
        "True\n",
        "True\n",
        "True\n",
        "True\n",
        "True\n",
        "True\n",
        "True\n",
        "True\n",
        "True\n",
        "True\n",
        "True\n",
        "True\n",
        "True\n",
        "True\n",
        "True\n",
        "True\n",
        "True\n",
        "True\n",
        "True\n",
        "True\n"
       ]
      }
     ],
     "prompt_number": 19
    },
    {
     "cell_type": "code",
     "collapsed": false,
     "input": [],
     "language": "python",
     "metadata": {},
     "outputs": [
      {
       "output_type": "stream",
       "stream": "stdout",
       "text": [
        "{'targets': [39, 40, 40, 40, 40, 40, 40, 40, 40, 40, 40, 40, 40, 40, 40, 40, 40, 40, 40, 40, 40, 40, 40, 40, 40, 40, 40, 40, 40, 40, 40, 40, 40, 40, 40, 40, 40, 40, 40, 40, 40, 40, 40, 41, 41, 46, 47, 48, 33, 34, 35, 21, 22, 23, 39, 40, 40, 40, 40, 40, 40, 40, 40, 40, 40, 40, 40, 40, 40, 40, 40, 40, 40, 40, 40, 40, 40, 40, 40, 40, 40, 40, 40, 40, 40, 40, 40, 40, 40, 40, 40], 'mspec': 'mspec', 'lmfcc': array([[ -0.398, -19.789,  -0.064, ..., -16.529, -15.033,  -1.025],\n",
        "       [  0.876, -17.659,   3.701, ...,   9.574,  -2.132,   8.298],\n",
        "       [  0.279, -16.467,  -2.759, ..., -13.137, -15.484,  -4.86 ],\n",
        "       ...,\n",
        "       [  0.349, -18.499,   0.992, ...,   4.04 ,   1.371,  -0.496],\n",
        "       [  1.056, -17.462,   3.575, ...,   8.883,  17.116,  -0.706],\n",
        "       [  0.806, -19.877,   3.747, ..., -17.554,  -4.498,  -3.892]]), 'filename': 'tidigits/disc_4.1.1/tidigits/train/man/nr/3a.wav'}\n"
       ]
      }
     ],
     "prompt_number": 2
    },
    {
     "cell_type": "code",
     "collapsed": false,
     "input": [],
     "language": "python",
     "metadata": {},
     "outputs": []
    }
   ],
   "metadata": {}
  }
 ]
}