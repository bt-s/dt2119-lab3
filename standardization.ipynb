{
 "metadata": {
  "kernelspec": {
   "display_name": "Python 3",
   "language": "python",
   "name": "python3"
  },
  "language_info": {
   "codemirror_mode": {
    "name": "ipython",
    "version": 3
   },
   "file_extension": ".py",
   "mimetype": "text/x-python",
   "name": "python",
   "nbconvert_exporter": "python",
   "pygments_lexer": "ipython3",
   "version": "3.6.7"
  },
  "name": "",
  "signature": "sha256:9ae4024be70d5d71e140fdd98c8e8059b60fe00c151d61334ec33cebd814ac3b"
 },
 "nbformat": 3,
 "nbformat_minor": 0,
 "worksheets": [
  {
   "cells": [
    {
     "cell_type": "code",
     "collapsed": false,
     "input": [
      "import numpy as np\n",
      "from sklearn.preprocessing import StandardScaler\n",
      "\n",
      "scaler = StandardScaler()\n",
      "traindata = np.load(\"data/train.npy\", allow_pickle=True)\n",
      "testdata = np.load(\"data/testdata.npz\", allow_pickle=True)[\"testdata\"]\n"
     ],
     "language": "python",
     "metadata": {},
     "outputs": [],
     "prompt_number": 11
    },
    {
     "cell_type": "code",
     "collapsed": false,
     "input": [
      "def dynamic_features(lmfcc):\n",
      "    N = lmfcc.shape[0]\n",
      "    M = lmfcc.shape[1] * 7\n",
      "    dyn = np.zeros((N, M), dtype=np.float32)\n",
      "     \n",
      "    lmfcc = np.vstack((np.flip(lmfcc[1:4, :], 0),\n",
      "                      lmfcc,\n",
      "                      np.flip(lmfcc[-4:-1, :], 0)))\n",
      "    for i in range(N):\n",
      "        dyn[i, :] = lmfcc[i:i+7].flatten()\n",
      "    \n",
      "    return dyn"
     ],
     "language": "python",
     "metadata": {},
     "outputs": [],
     "prompt_number": 34
    },
    {
     "cell_type": "code",
     "collapsed": false,
     "input": [
      "C = 0\n",
      "sizes = np.zeros(len(traindata), dtype=\"int32\")\n",
      "\n",
      "for i in range(len(traindata)):\n",
      "    sizes[i] = traindata[i][\"lmfcc\"].shape[0] \n",
      "    \n",
      "C = np.sum(sizes, dtype=\"int32\")    \n",
      "N =  traindata[0][\"lmfcc\"].shape[1]\n",
      "data = np.zeros((C, N*7), dtype=np.float32)\n",
      "\n",
      "start_idx = 0\n",
      "\n",
      "for i in range(len(traindata)):\n",
      "    data[start_idx: start_idx + sizes[i], :] = \\\n",
      "        dynamic_features(traindata[i][\"lmfcc\"])\n",
      "    start_idx += sizes[i]\n",
      "    \n",
      "print(data.shape)"
     ],
     "language": "python",
     "metadata": {},
     "outputs": [
      {
       "output_type": "stream",
       "stream": "stdout",
       "text": [
        "(1507392, 91)\n"
       ]
      }
     ],
     "prompt_number": 35
    },
    {
     "cell_type": "code",
     "collapsed": false,
     "input": [
      "scaler.fit_transform(data)\n",
      "mean = scaler.mean_\n",
      "var  = scaler.var_"
     ],
     "language": "python",
     "metadata": {},
     "outputs": [],
     "prompt_number": 38
    },
    {
     "cell_type": "code",
     "collapsed": false,
     "input": [],
     "language": "python",
     "metadata": {},
     "outputs": [
      {
       "metadata": {},
       "output_type": "pyout",
       "prompt_number": 39,
       "text": [
        "array([496.76317242,  32.80569354, -18.73787309, 124.62968624,\n",
        "       -11.31320187,  20.03797818, -28.90895003,   2.52695069,\n",
        "        -3.94471743, -28.82644992,  18.46133454, -34.10859551,\n",
        "        38.97148452, 496.75145417,  32.96296915, -18.46933777,\n",
        "       124.74614699, -11.13246057,  20.2536792 , -28.63186484,\n",
        "         2.75965741,  -3.78170841, -28.55593502,  18.64901366,\n",
        "       -34.0634951 ,  39.03061181, 496.71260561,  33.10297255,\n",
        "       -18.18279784, 124.85433915, -10.95927536,  20.46668683,\n",
        "       -28.34524795,   2.97718643,  -3.62378731, -28.2817104 ,\n",
        "        18.82886203, -34.02355061,  39.08493345, 496.64942895,\n",
        "        33.22514648, -17.88424776, 124.95566382, -10.78664475,\n",
        "        20.68597419, -28.05962882,   3.17357496,  -3.47452487,\n",
        "       -28.00250499,  19.00453233, -33.97168885,  39.1560868 ,\n",
        "       496.5895215 ,  33.35371025, -17.58747293, 125.05925997,\n",
        "       -10.60929407,  20.91193399, -27.75846495,   3.38928129,\n",
        "        -3.32427962, -27.73405723,  19.17614662, -33.92662824,\n",
        "        39.23032894, 496.55317794,  33.49772587, -17.30188166,\n",
        "       125.15901371, -10.43472368,  21.1215981 , -27.4701763 ,\n",
        "         3.61086897,  -3.15796886, -27.44743504,  19.35702326,\n",
        "       -33.88639186,  39.29972827, 496.54281832,  33.66026621,\n",
        "       -17.03421141, 125.26793827, -10.24937243,  21.33883422,\n",
        "       -27.18075457,   3.84509968,  -2.98412788, -27.15347302,\n",
        "        19.54883534, -33.85923502,  39.35188989])"
       ]
      }
     ],
     "prompt_number": 39
    },
    {
     "cell_type": "code",
     "collapsed": false,
     "input": [],
     "language": "python",
     "metadata": {},
     "outputs": [],
     "prompt_number": 79
    },
    {
     "cell_type": "code",
     "collapsed": false,
     "input": [],
     "language": "python",
     "metadata": {},
     "outputs": [],
     "prompt_number": null
    },
    {
     "cell_type": "code",
     "collapsed": false,
     "input": [],
     "language": "python",
     "metadata": {},
     "outputs": [],
     "prompt_number": null
    }
   ],
   "metadata": {}
  }
 ]
}